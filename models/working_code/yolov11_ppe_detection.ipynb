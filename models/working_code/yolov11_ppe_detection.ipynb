{
 "cells": [
  {
   "cell_type": "code",
   "execution_count": 1,
   "id": "initial_id",
   "metadata": {
    "ExecuteTime": {
     "end_time": "2025-02-03T03:51:33.839502Z",
     "start_time": "2025-02-03T03:51:33.823180Z"
    },
    "collapsed": true
   },
   "outputs": [
    {
     "name": "stdout",
     "output_type": "stream",
     "text": [
      "No NVIDIA GPU detected or nvidia-smi command not found.\n"
     ]
    }
   ],
   "source": [
    "import shutil\n",
    "\n",
    "if shutil.which(\"nvidia-smi\"):\n",
    "    !nvidia-smi\n",
    "else:\n",
    "    print(\"No NVIDIA GPU detected or nvidia-smi command not found.\")"
   ]
  },
  {
   "cell_type": "code",
   "execution_count": 2,
   "id": "57bf55ee733c750f",
   "metadata": {
    "ExecuteTime": {
     "end_time": "2025-02-03T03:52:19.270450Z",
     "start_time": "2025-02-03T03:52:19.263189Z"
    }
   },
   "outputs": [
    {
     "name": "stdout",
     "output_type": "stream",
     "text": [
      "e:\\Optimizing Workplace Compliance and Safety\\models\n"
     ]
    }
   ],
   "source": [
    "import os\n",
    "HOME = os.getcwd()\n",
    "print(HOME)\n"
   ]
  },
  {
   "cell_type": "code",
   "execution_count": null,
   "id": "a2f9f602924a6abf",
   "metadata": {
    "ExecuteTime": {
     "end_time": "2025-02-02T10:40:32.837988Z",
     "start_time": "2025-02-02T10:33:06.265739Z"
    }
   },
   "outputs": [],
   "source": [
    "%pip install \"ultralytics<=8.3.40\" supervision roboflow"
   ]
  },
  {
   "cell_type": "code",
   "execution_count": 1,
   "id": "a3cf04ae3f5895dc",
   "metadata": {},
   "outputs": [
    {
     "name": "stdout",
     "output_type": "stream",
     "text": [
      "Ultralytics 8.3.40  Python-3.12.4 torch-2.6.0+cpu CPU (Intel Core(TM) i7-1065G7 1.30GHz)\n",
      "Setup complete  (8 CPUs, 15.7 GB RAM, 23.9/156.2 GB disk)\n"
     ]
    }
   ],
   "source": [
    "import ultralytics\n",
    "ultralytics.checks()"
   ]
  },
  {
   "cell_type": "code",
   "execution_count": null,
   "id": "3077911c6b0bcb74",
   "metadata": {},
   "outputs": [],
   "source": [
    "from ultralytics import YOLO\n",
    "# Load a COCO-pretrained YOLO11n model\n",
    "model = YOLO(\"yolo11n.pt\")\n",
    "# Train the model on the COCO8 example dataset for 100 epochs\n",
    "results = model.train(data=r\"E:\\Optimizing Workplace Compliance and Safety\\Data\\Roboflow-yaml\\data.yaml\", epochs=50, imgsz=640)\n"
   ]
  },
  {
   "cell_type": "code",
   "execution_count": 4,
   "id": "6f0090ddade5a7e0",
   "metadata": {
    "ExecuteTime": {
     "end_time": "2025-02-03T00:26:56.365268Z",
     "start_time": "2025-02-03T00:26:56.014603Z"
    }
   },
   "outputs": [
    {
     "ename": "NameError",
     "evalue": "name 'model' is not defined",
     "output_type": "error",
     "traceback": [
      "\u001b[1;31m---------------------------------------------------------------------------\u001b[0m",
      "\u001b[1;31mNameError\u001b[0m                                 Traceback (most recent call last)",
      "Cell \u001b[1;32mIn[4], line 2\u001b[0m\n\u001b[0;32m      1\u001b[0m \u001b[38;5;66;03m# Run inference with the YOLO11n model on the 'bus.jpg' image\u001b[39;00m\n\u001b[1;32m----> 2\u001b[0m results \u001b[38;5;241m=\u001b[39m \u001b[43mmodel\u001b[49m(\u001b[38;5;124mr\u001b[39m\u001b[38;5;124m\"\u001b[39m\u001b[38;5;124mE:\u001b[39m\u001b[38;5;124m\\\u001b[39m\u001b[38;5;124mOptimizing Workplace Compliance and Safety\u001b[39m\u001b[38;5;124m\\\u001b[39m\u001b[38;5;124mData\u001b[39m\u001b[38;5;124m\\\u001b[39m\u001b[38;5;124mVideos\u001b[39m\u001b[38;5;124m\\\u001b[39m\u001b[38;5;124mvideo12.mp4\u001b[39m\u001b[38;5;124m\"\u001b[39m)\n\u001b[0;32m      4\u001b[0m \u001b[38;5;66;03m# Access the first result (there's typically one result for a single image)\u001b[39;00m\n\u001b[0;32m      5\u001b[0m result \u001b[38;5;241m=\u001b[39m results[\u001b[38;5;241m0\u001b[39m]\n",
      "\u001b[1;31mNameError\u001b[0m: name 'model' is not defined"
     ]
    }
   ],
   "source": [
    "# Run inference with the YOLO11n model on the 'bus.jpg' image\n",
    "results = model(r\"\")\n",
    "\n",
    "# Access the first result (there's typically one result for a single image)\n",
    "result = results[0]\n",
    "# Get the detections in xywh format\n",
    "boxes = result.boxes.xywh  # Get the xywh coordinates of bounding boxes\n",
    "confidences = result.boxes.conf  # Get the confidence scores for each detection\n",
    "classes = result.boxes.cls  # Get the class labels for each detection\n",
    "# Print the detection details\n",
    "for box, confidence, cls in zip(boxes, confidences, classes):\n",
    "    print(f\"Class: {cls}, Confidence: {confidence}, Bounding Box (xywh): {box}\")\n",
    "# To visualize the image with detections\n",
    "result.show()"
   ]
  },
  {
   "cell_type": "code",
   "execution_count": 6,
   "id": "58dc101db26b7515",
   "metadata": {
    "ExecuteTime": {
     "end_time": "2025-02-03T01:08:11.297937Z",
     "start_time": "2025-02-03T01:07:49.492256Z"
    }
   },
   "outputs": [
    {
     "name": "stdout",
     "output_type": "stream",
     "text": [
      "loading Roboflow workspace...\n",
      "loading Roboflow project...\n"
     ]
    },
    {
     "name": "stderr",
     "output_type": "stream",
     "text": [
      "Downloading Dataset Version Zip in PPE-Detection-1 to coco:: 100%|██████████| 44860/44860 [00:15<00:00, 2934.51it/s]"
     ]
    },
    {
     "name": "stdout",
     "output_type": "stream",
     "text": [
      "\n"
     ]
    },
    {
     "name": "stderr",
     "output_type": "stream",
     "text": [
      "\n",
      "Extracting Dataset Version Zip to PPE-Detection-1 in coco:: 100%|██████████| 1188/1188 [00:00<00:00, 1853.27it/s]\n"
     ]
    }
   ],
   "source": [
    "# from roboflow import Roboflow\n",
    "# rf = Roboflow(api_key=\"0YO0l2DpEN5q9HWBpvZ9\")\n",
    "# project = rf.workspace(\"workplace-safety-system\").project(\"ppe-detection-qwehg\")\n",
    "# version = project.version(1)\n",
    "# dataset = version.download(\"coco\")"
   ]
  },
  {
   "cell_type": "code",
   "execution_count": null,
   "id": "bc18cff479fc7ad4",
   "metadata": {},
   "outputs": [],
   "source": [
    "from ultralytics import YOLO\n",
    "\n",
    "# Load a model\n",
    "model = YOLO(\"yolo11n-pose.pt\")\n",
    "\n",
    "# Predict with the model\n",
    "results = model.track(source=\"xxxxxxxxxxxxxxxxxxx\", show=True, save=True)  # predict on an image"
   ]
  }
 ],
 "metadata": {
  "kernelspec": {
   "display_name": "Python 3",
   "language": "python",
   "name": "python3"
  },
  "language_info": {
   "codemirror_mode": {
    "name": "ipython",
    "version": 3
   },
   "file_extension": ".py",
   "mimetype": "text/x-python",
   "name": "python",
   "nbconvert_exporter": "python",
   "pygments_lexer": "ipython3",
   "version": "3.13.1"
  }
 },
 "nbformat": 4,
 "nbformat_minor": 5
}
