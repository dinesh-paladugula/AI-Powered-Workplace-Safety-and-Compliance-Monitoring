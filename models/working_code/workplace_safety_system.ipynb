{
 "cells": [
  {
   "cell_type": "code",
   "id": "initial_id",
   "metadata": {
    "collapsed": true,
    "ExecuteTime": {
     "end_time": "2025-02-02T09:27:11.445850Z",
     "start_time": "2025-02-02T09:27:10.360791Z"
    }
   },
   "source": [
    "import cv2\n",
    "import pandas as pd"
   ],
   "outputs": [],
   "execution_count": 1
  },
  {
   "metadata": {},
   "cell_type": "raw",
   "source": "FPS Check",
   "id": "f8197d26534527f7"
  },
  {
   "cell_type": "code",
   "id": "7c9f33ab93c24a55",
   "metadata": {},
   "source": [
    "cam = cv2.VideoCapture(r\"E:\\Optimizing Workplace Compliance and Safety\\Data\\Manufacturing Drugs at Large Scale 1080.mp4\")\n",
    "fps = int(cam.get(cv2.CAP_PROP_FPS))\n",
    "fps"
   ],
   "outputs": [],
   "execution_count": null
  },
  {
   "cell_type": "code",
   "id": "845425a0e787192c",
   "metadata": {},
   "source": [
    "import cv2\n",
    "import os\n",
    "\n",
    "def frame_sampling(video_path, output_dir, total_images):\n",
    "    if not os.path.exists(output_dir):\n",
    "        os.makedirs(output_dir)\n",
    "\n",
    "    video = cv2.VideoCapture(video_path)\n",
    "\n",
    "\n",
    "    # Video Properties\n",
    "    fps = int(video.get(cv2.CAP_PROP_FPS))\n",
    "    total_frames = int(video.get(cv2.CAP_PROP_FRAME_COUNT))\n",
    "    duration = total_frames / fps\n",
    "\n",
    "    print(f\"Video FPS: {fps}, Total Frames: {total_frames}, Duration: {duration} seconds.\")\n",
    "\n",
    "    frame_interval = max(1,total_frames // total_images)\n",
    "\n",
    "    print(f\"Extracting every {frame_interval} frames to get {total_images} images.\")\n",
    "\n",
    "    frame_count = 0\n",
    "    extracted_count = 0\n",
    "\n",
    "    while extracted_count < total_images:\n",
    "        ret, frame = video.read()\n",
    "\n",
    "        if not ret:\n",
    "            break\n",
    "\n",
    "        if frame_count%frame_interval == 0:\n",
    "            frame_filename = os.path.join(output_dir, f\"fram{extracted_count:02d}.jpg\")\n",
    "            cv2.imwrite(frame_filename, frame)\n",
    "            print(f\"Saved: {frame_filename}\")\n",
    "            extracted_count += 1\n",
    "\n",
    "        frame_count += 1\n",
    "\n",
    "    video.release()\n",
    "    print(f\"Extraction complete. {extracted_count} frames saved to {output_dir}.\")\n",
    "\n",
    "video_path = r\"E:\\Optimizing Workplace Compliance and Safety\\Data\\Videos\\video18.mp4\" # Video Path\n",
    "output_dir = r\"E:\\Optimizing Workplace Compliance and Safety\\Data\\Frames\\Video18\" # Output Folder\n",
    "total_images = 300 # Image Count\n",
    "frame_sampling(video_path, output_dir, total_images)"
   ],
   "outputs": [],
   "execution_count": null
  },
  {
   "metadata": {},
   "cell_type": "code",
   "outputs": [],
   "execution_count": null,
   "source": "",
   "id": "a5bc665e727ae75f"
  }
 ],
 "metadata": {
  "kernelspec": {
   "display_name": "Python 3",
   "language": "python",
   "name": "python3"
  },
  "language_info": {
   "codemirror_mode": {
    "name": "ipython",
    "version": 3
   },
   "file_extension": ".py",
   "mimetype": "text/x-python",
   "name": "python",
   "nbconvert_exporter": "python",
   "pygments_lexer": "ipython3",
   "version": "3.13.1"
  }
 },
 "nbformat": 4,
 "nbformat_minor": 5
}
